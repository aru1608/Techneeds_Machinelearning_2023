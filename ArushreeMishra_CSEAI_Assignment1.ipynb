{
  "nbformat": 4,
  "nbformat_minor": 0,
  "metadata": {
    "colab": {
      "provenance": []
    },
    "kernelspec": {
      "name": "python3",
      "display_name": "Python 3"
    },
    "language_info": {
      "name": "python"
    }
  },
  "cells": [
    {
      "cell_type": "markdown",
      "source": [
        "# **EDA**"
      ],
      "metadata": {
        "id": "O0daotYHvtPO"
      }
    },
    {
      "cell_type": "markdown",
      "source": [
        "\n",
        "\n",
        "Q1.Are there any null values in the dataset?if yes then fill them..\n",
        "\n"
      ],
      "metadata": {
        "id": "nl2lfyoyx3lh"
      }
    },
    {
      "cell_type": "code",
      "source": [
        "!wget https://www.kaggle.com/datasets/aestheteaman01/zomato-restaurants-in-delhi-ncr"
      ],
      "metadata": {
        "colab": {
          "base_uri": "https://localhost:8080/"
        },
        "id": "u_Yx-qz5vzGe",
        "outputId": "15a4c287-61d6-42f0-d39c-fd2e2dca5a2c"
      },
      "execution_count": 1,
      "outputs": [
        {
          "output_type": "stream",
          "name": "stdout",
          "text": [
            "--2023-11-14 07:33:09--  https://www.kaggle.com/datasets/aestheteaman01/zomato-restaurants-in-delhi-ncr\n",
            "Resolving www.kaggle.com (www.kaggle.com)... 35.244.233.98\n",
            "Connecting to www.kaggle.com (www.kaggle.com)|35.244.233.98|:443... connected.\n",
            "HTTP request sent, awaiting response... 200 OK\n",
            "Length: unspecified [text/html]\n",
            "Saving to: ‘zomato-restaurants-in-delhi-ncr’\n",
            "\n",
            "zomato-restaurants-     [ <=>                ]  10.42K  --.-KB/s    in 0s      \n",
            "\n",
            "2023-11-14 07:33:09 (38.6 MB/s) - ‘zomato-restaurants-in-delhi-ncr’ saved [10665]\n",
            "\n"
          ]
        }
      ]
    },
    {
      "cell_type": "code",
      "source": [
        "import numpy as np\n",
        "import pandas as pd\n",
        "import matplotlib.pyplot as plt\n",
        "import seaborn as sns\n",
        "import warnings\n",
        "warnings.filterwarnings('ignore')"
      ],
      "metadata": {
        "id": "BI87qvScv63Y"
      },
      "execution_count": 2,
      "outputs": []
    },
    {
      "cell_type": "code",
      "source": [
        "#looking for columns where null values exist\n",
        "data=pd.read_csv('DelhiNCR Restaurants.csv')\n",
        "print(data.isnull().sum())"
      ],
      "metadata": {
        "colab": {
          "base_uri": "https://localhost:8080/"
        },
        "id": "GQmpkIfEwALd",
        "outputId": "28961c80-3c21-4d23-b989-77e81c8df79e"
      },
      "execution_count": 8,
      "outputs": [
        {
          "output_type": "stream",
          "name": "stdout",
          "text": [
            "Restaurant_Name            0\n",
            "Category                   0\n",
            "Pricing_for_2              0\n",
            "Locality                   0\n",
            "Dining_Rating              0\n",
            "Dining_Review_Count        0\n",
            "Delivery_Rating          402\n",
            "Delivery_Rating_Count      0\n",
            "Website                    0\n",
            "Address                    0\n",
            "Phone_No                   0\n",
            "Latitude                   0\n",
            "Longitude                  0\n",
            "Known_For2               405\n",
            "Known_For22              841\n",
            "dtype: int64\n"
          ]
        }
      ]
    },
    {
      "cell_type": "code",
      "source": [
        "#filling the null values in Delivery_Rating column with the value which has max frequency\n",
        "print(data['Delivery_Rating'].value_counts())\n",
        "print()\n",
        "#3.9 has highest frequency\n",
        "data['Delivery_Rating'].fillna(3.9, inplace=True)\n",
        "print(data.isnull().sum())"
      ],
      "metadata": {
        "colab": {
          "base_uri": "https://localhost:8080/"
        },
        "id": "MSL8Be6dwz8G",
        "outputId": "0a417a8a-47d7-4217-d5a3-f82a1e5c9c28"
      },
      "execution_count": 9,
      "outputs": [
        {
          "output_type": "stream",
          "name": "stdout",
          "text": [
            "3.9    304\n",
            "4.0    264\n",
            "4.1    253\n",
            "4.2    177\n",
            "3.8    140\n",
            "4.3    135\n",
            "3.7     99\n",
            "3.6     60\n",
            "3.5     50\n",
            "4.4     26\n",
            "3.4     20\n",
            "3.3     11\n",
            "4.5      8\n",
            "3.2      6\n",
            "3.1      5\n",
            "3.0      3\n",
            "2.8      1\n",
            "2.9      1\n",
            "Name: Delivery_Rating, dtype: int64\n",
            "\n",
            "Restaurant_Name            0\n",
            "Category                   0\n",
            "Pricing_for_2              0\n",
            "Locality                   0\n",
            "Dining_Rating              0\n",
            "Dining_Review_Count        0\n",
            "Delivery_Rating            0\n",
            "Delivery_Rating_Count      0\n",
            "Website                    0\n",
            "Address                    0\n",
            "Phone_No                   0\n",
            "Latitude                   0\n",
            "Longitude                  0\n",
            "Known_For2               405\n",
            "Known_For22              841\n",
            "dtype: int64\n"
          ]
        }
      ]
    },
    {
      "cell_type": "code",
      "source": [
        "#filling the null values in Known_For2 column with the value which has max frequency\n",
        "print(data['Known_For2'].value_counts())\n",
        "#Get a complimentary night, earn up to 50% of spends as points at 250+ restaurants & much more. Know more has highest frequency\n",
        "data['Known_For2'].fillna(\"Get a complimentary night, earn up to 50% of spends as points at 250+ restaurants & much more. Know more \",inplace=True)\n",
        "print(data.isnull().sum())"
      ],
      "metadata": {
        "colab": {
          "base_uri": "https://localhost:8080/"
        },
        "id": "jk7WYz3yxLba",
        "outputId": "ba14f32d-fb41-4851-f2f9-5fd22ae11276"
      },
      "execution_count": 10,
      "outputs": [
        {
          "output_type": "stream",
          "name": "stdout",
          "text": [
            "Get a complimentary night, earn up to 50% of spends as points at 250+ restaurants & much more. Know more    15\n",
            "Finger Food, Continental, Mediterranean, Italian, Asian                                                      9\n",
            "Continental, Italian, Fast Food, North Indian, Beverages, Coffee                                             7\n",
            "Chinese, Asian, Continental, North Indian, Beverages                                                         2\n",
            "Butterscotch Pastry, Truffle Pastry, Chocolate Truffle Cake, Pastries, Waffle, Cakes                         2\n",
            "                                                                                                            ..\n",
            "Passion Fruit Ice Tea, Cardamom Tea, Bun Tikki, Earl Grey Tea, Rose Tea, Smoked Chicken Pasta                1\n",
            "Chicken Crostini, Blackberry Mojito, Butter Maggi, Peri Fries, Masala Tea, Hot Coffee                        1\n",
            "Chicken Thai Curry, Iced Lemon Tea, Pizza Alle Verdure, Veggie Delight, Stroganoff, Chicken Shawarama        1\n",
            "Paneer Birbali, Tomato Soup, Butter Chicken, Dal Makhani, Kadhai Paneer, Shahi Paneer                        1\n",
            "Cordial Staff, Great Recommendations, Mouth Watering Food, Reasonable Prices, Quantity, Ambience             1\n",
            "Name: Known_For2, Length: 1530, dtype: int64\n",
            "Restaurant_Name            0\n",
            "Category                   0\n",
            "Pricing_for_2              0\n",
            "Locality                   0\n",
            "Dining_Rating              0\n",
            "Dining_Review_Count        0\n",
            "Delivery_Rating            0\n",
            "Delivery_Rating_Count      0\n",
            "Website                    0\n",
            "Address                    0\n",
            "Phone_No                   0\n",
            "Latitude                   0\n",
            "Longitude                  0\n",
            "Known_For2                 0\n",
            "Known_For22              841\n",
            "dtype: int64\n"
          ]
        }
      ]
    },
    {
      "cell_type": "code",
      "source": [
        "#filling the null values in Known_For22 column with the value which has max frequency\n",
        "print(data['Known_For22'].value_counts())\n",
        "#Pretty Decor, Perfect Presentation, Tamper Proof Packaging, Worth the Money, Packing, Food Quality has highest frequency\n",
        "data['Known_For22'].fillna(\"Pretty Decor, Perfect Presentation, Tamper Proof Packaging, Worth the Money, Packing, Food Quality \",inplace=True)\n",
        "print(data.isnull().sum())"
      ],
      "metadata": {
        "colab": {
          "base_uri": "https://localhost:8080/"
        },
        "id": "giJbceCxxbTk",
        "outputId": "23b598ff-e872-4399-e28d-aed6bdbc457e"
      },
      "execution_count": 15,
      "outputs": [
        {
          "output_type": "stream",
          "name": "stdout",
          "text": [
            "retty Decor, Perfect Presentation, Tamper Proof Packaging, Worth the Money, Packing, Food Quality     841\n",
            "Pretty Decor, Perfect Presentation, Tamper Proof Packaging, Worth the Money, Packing, Food Quality      2\n",
            "Office Crowd, Economical, Cute Little Place, Elegantly Decorated, New Menu, Great Recommendations       1\n",
            "Budget Food, Good for Large Groups, Packed on Weekends, Portions, Good Taste, Main Course               1\n",
            "Classy Interiors, Themed Decor, Luxury, Reasonable Cost, Beautiful Interiors, Good Services             1\n",
            "                                                                                                     ... \n",
            "Healthy Options, Fresh Ingredients, Healthy Food, Outdoor Seating, View, Courteous Staff                1\n",
            "Classy Decor, Wonderful Service, Chinese, Server, Excellent Food, Hospitality                           1\n",
            "Pocket Friendly, Nice Crowd, Great Ambiance, Polite Staff, Prompt Service, Worth the Money              1\n",
            "Happy Hour Menu, Balcony Area, Affordable Food, Outdoor Sitting, Good Vibe, Helpful Staff               1\n",
            "Lip Smacking Food, Amazing Food, Owner, Good Place, Good Food, Quality                                  1\n",
            "Name: Known_For22, Length: 1124, dtype: int64\n",
            "Restaurant_Name          0\n",
            "Category                 0\n",
            "Pricing_for_2            0\n",
            "Locality                 0\n",
            "Dining_Rating            0\n",
            "Dining_Review_Count      0\n",
            "Delivery_Rating          0\n",
            "Delivery_Rating_Count    0\n",
            "Website                  0\n",
            "Address                  0\n",
            "Phone_No                 0\n",
            "Latitude                 0\n",
            "Longitude                0\n",
            "Known_For2               0\n",
            "Known_For22              0\n",
            "dtype: int64\n"
          ]
        }
      ]
    },
    {
      "cell_type": "markdown",
      "source": [
        "Q2.Which restaurant is the best one having ratings more than 4.5 for delivery"
      ],
      "metadata": {
        "id": "jTNLqC1fx_Sk"
      }
    },
    {
      "cell_type": "code",
      "source": [
        "print(data['Restaurant_Name'][data['Delivery_Rating']>=4.5])"
      ],
      "metadata": {
        "colab": {
          "base_uri": "https://localhost:8080/"
        },
        "id": "0qBSe7RryDpH",
        "outputId": "88c8ff3b-1abd-475f-e06d-c3110c45c86a"
      },
      "execution_count": 21,
      "outputs": [
        {
          "output_type": "stream",
          "name": "stdout",
          "text": [
            "7                          Natural Ice Cream\n",
            "152     The Haven International Coffee House\n",
            "249                            Sibang Bakery\n",
            "269                                BreadTalk\n",
            "829                                Krua Thai\n",
            "1342                 KAP's Restro Bar & Cafe\n",
            "1445                                Choko La\n",
            "1505                          Twist of Italy\n",
            "Name: Restaurant_Name, dtype: object\n"
          ]
        }
      ]
    },
    {
      "cell_type": "markdown",
      "source": [
        "Q3.What type of food is most preffered by the customers?"
      ],
      "metadata": {
        "id": "Tj-rtIV1yx9s"
      }
    },
    {
      "cell_type": "code",
      "source": [
        "print(data['Category'].value_counts().idxmax())"
      ],
      "metadata": {
        "colab": {
          "base_uri": "https://localhost:8080/"
        },
        "id": "N9Yzai8wy057",
        "outputId": "257877ae-e73c-4d0b-910f-c196806b0a8e"
      },
      "execution_count": 14,
      "outputs": [
        {
          "output_type": "stream",
          "name": "stdout",
          "text": [
            "North Indian\n"
          ]
        }
      ]
    },
    {
      "cell_type": "markdown",
      "source": [
        "Q4.How many people prefer delivery rather than dining ?"
      ],
      "metadata": {
        "id": "ojxC3A500MLX"
      }
    },
    {
      "cell_type": "code",
      "source": [
        "x=data['Dining_Review_Count'].sum()\n",
        "y=data['Delivery_Rating_Count'].sum()\n",
        "if x>y:\n",
        "    print(x-y,\"people prefer dining over delivery.\")\n",
        "else:\n",
        "    print(y-x,\"people prefer delivery over dining.\")\n"
      ],
      "metadata": {
        "colab": {
          "base_uri": "https://localhost:8080/"
        },
        "id": "CBCKN2Ht0QCg",
        "outputId": "9665e8d0-8e9f-4cc9-9e4d-4c0c8231d3ee"
      },
      "execution_count": 16,
      "outputs": [
        {
          "output_type": "stream",
          "name": "stdout",
          "text": [
            "4534427 people prefer delivery over dining.\n"
          ]
        }
      ]
    },
    {
      "cell_type": "markdown",
      "source": [
        "Q5.Which restaurant is the best one having ratings more than 4.5 for dining?"
      ],
      "metadata": {
        "id": "iHWC3JWS2yvY"
      }
    },
    {
      "cell_type": "code",
      "source": [
        "print(data['Restaurant_Name'][data['Dining_Rating']>=4.5])"
      ],
      "metadata": {
        "colab": {
          "base_uri": "https://localhost:8080/"
        },
        "id": "lcWRYqTk22IY",
        "outputId": "c9db34c8-5ff4-4bed-d163-3fa629263cf2"
      },
      "execution_count": 20,
      "outputs": [
        {
          "output_type": "stream",
          "name": "stdout",
          "text": [
            "0                    Rustom's\n",
            "1                   Cafe Lota\n",
            "2      Dum-Pukht - ITC Maurya\n",
            "3                 Burma Burma\n",
            "4               The Big Chill\n",
            "                ...          \n",
            "161        DJ's Pizza & Pasta\n",
            "162          Farmer's Kitchen\n",
            "163                  Ice Pice\n",
            "164                Mad Batter\n",
            "165       Only Bar Restaurant\n",
            "Name: Restaurant_Name, Length: 166, dtype: object\n"
          ]
        }
      ]
    },
    {
      "cell_type": "markdown",
      "source": [
        "Q6.Compare different delivery rating counts of different restaurants. Also tell that which restaurants has got the highest rating counts. Do this by creating a barplot"
      ],
      "metadata": {
        "id": "xE7MK-gy4OhP"
      }
    },
    {
      "cell_type": "code",
      "source": [
        "sns.countplot(x=data['Restaurant_Name'],hue=data['Delivery_Rating_Count'],palette='pastel')\n",
        "plt.xlabel(\"Restaurant\")\n",
        "plt.ylabel(\"Delivery rating count\")\n",
        "plt.title(\"Delivery rating count of different Restaurants\")\n",
        "plt.show()"
      ],
      "metadata": {
        "colab": {
          "base_uri": "https://localhost:8080/",
          "height": 245
        },
        "id": "bSPQvdMk4SS8",
        "outputId": "526061b9-2d09-40d4-919b-d39506b5b9f2"
      },
      "execution_count": 1,
      "outputs": [
        {
          "output_type": "error",
          "ename": "NameError",
          "evalue": "ignored",
          "traceback": [
            "\u001b[0;31m---------------------------------------------------------------------------\u001b[0m",
            "\u001b[0;31mNameError\u001b[0m                                 Traceback (most recent call last)",
            "\u001b[0;32m<ipython-input-1-f49b11a72ab0>\u001b[0m in \u001b[0;36m<cell line: 1>\u001b[0;34m()\u001b[0m\n\u001b[0;32m----> 1\u001b[0;31m \u001b[0msns\u001b[0m\u001b[0;34m.\u001b[0m\u001b[0mcountplot\u001b[0m\u001b[0;34m(\u001b[0m\u001b[0mx\u001b[0m\u001b[0;34m=\u001b[0m\u001b[0mdata\u001b[0m\u001b[0;34m[\u001b[0m\u001b[0;34m'Restaurant_Name'\u001b[0m\u001b[0;34m]\u001b[0m\u001b[0;34m,\u001b[0m\u001b[0mhue\u001b[0m\u001b[0;34m=\u001b[0m\u001b[0mdata\u001b[0m\u001b[0;34m[\u001b[0m\u001b[0;34m'Delivery_Rating_Count'\u001b[0m\u001b[0;34m]\u001b[0m\u001b[0;34m,\u001b[0m\u001b[0mpalette\u001b[0m\u001b[0;34m=\u001b[0m\u001b[0;34m'pastel'\u001b[0m\u001b[0;34m)\u001b[0m\u001b[0;34m\u001b[0m\u001b[0;34m\u001b[0m\u001b[0m\n\u001b[0m\u001b[1;32m      2\u001b[0m \u001b[0mplt\u001b[0m\u001b[0;34m.\u001b[0m\u001b[0mxlabel\u001b[0m\u001b[0;34m(\u001b[0m\u001b[0;34m\"Restaurant\"\u001b[0m\u001b[0;34m)\u001b[0m\u001b[0;34m\u001b[0m\u001b[0;34m\u001b[0m\u001b[0m\n\u001b[1;32m      3\u001b[0m \u001b[0mplt\u001b[0m\u001b[0;34m.\u001b[0m\u001b[0mylabel\u001b[0m\u001b[0;34m(\u001b[0m\u001b[0;34m\"Delivery rating count\"\u001b[0m\u001b[0;34m)\u001b[0m\u001b[0;34m\u001b[0m\u001b[0;34m\u001b[0m\u001b[0m\n\u001b[1;32m      4\u001b[0m \u001b[0mplt\u001b[0m\u001b[0;34m.\u001b[0m\u001b[0mtitle\u001b[0m\u001b[0;34m(\u001b[0m\u001b[0;34m\"Delivery rating count of different Restaurants\"\u001b[0m\u001b[0;34m)\u001b[0m\u001b[0;34m\u001b[0m\u001b[0;34m\u001b[0m\u001b[0m\n\u001b[1;32m      5\u001b[0m \u001b[0mplt\u001b[0m\u001b[0;34m.\u001b[0m\u001b[0mshow\u001b[0m\u001b[0;34m(\u001b[0m\u001b[0;34m)\u001b[0m\u001b[0;34m\u001b[0m\u001b[0;34m\u001b[0m\u001b[0m\n",
            "\u001b[0;31mNameError\u001b[0m: name 'sns' is not defined"
          ]
        }
      ]
    }
  ]
}